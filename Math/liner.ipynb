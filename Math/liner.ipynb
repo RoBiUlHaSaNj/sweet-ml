
###hi
import numpy as  np

#basic array assing
arr1=np.array([1,2,3,4])
print(arr1)

#lec 1: Vector and spaces


#Scalar 

# 0-D,0-D tensor ,numarical , 1,2,6.4.  Just a single number. No dimensions.

scalar=np.array(5)
scalar1=np.array(5.5)
scalar2=np.array(-5)
print(scalar) #output 5
print(scalar1) #output 5.5
print(scalar2) #output-5
print("Shape:", scalar.shape) #output ()


#Vector

# 1-D,1-D tensor ,ordered array , [1,2,3,4] . A one-dimensional array — like a list of numbers.

vector=np.array([1,2,3])
print(vector) #output [1,2,3]
print(vector.shape) #output(3,)

#Matrix

#2-D,2-D tensor .A two-dimensional array — rows and columns.

martix =np.array([[1,2,3],[4,5,6]])
print(martix)
print(martix.shape)# Output: (2, 3)


#Tensor (3-D or more)

# A 3D tensor is like a stack of matrices — useful in deep learning (e.g., images, time series).

tensor =np.array([[[[1,2,3],[4,5,6],[2,3,4],[9,8,7]]]])
print(tensor)
print(tensor.shape)  # Output: (1, 1, 4, 3)


#Vector operation

u=np.array([-3,-8])
v=np.array([6,3])
print("Addition :",u+v)
print("Subtraction:",u-v)
print("Dot product:",np.dot(u,v))

#Magnitude of a Vector
magnitude_u = np.linalg.norm(u)
magnitude_v = np.linalg.norm(v)
print("Magnitude of u:", magnitude_u)  
print("Magnitude of v:", magnitude_v)


# Unit Vector (Normalize a vector)
unit_u = u / magnitude_u
unit_v = v / magnitude_v
print("Unit vector u:", unit_u)
print("Unit vector v:", unit_v)

#Angle Between Two Vectors
cos_theta =  np.dot(u,v)/ (magnitude_u * magnitude_v)
angle_rad = np.arccos(cos_theta)  # in radians
angle_deg = np.degrees(angle_rad) # in degrees

print("Angle between u and v (radians):", angle_rad)
print("Angle between u and v (degrees):", angle_deg)

#Scalar Multiplication
c = 3
scalar_mult = c * u
print(f"{c} * u =", scalar_mult)

#Cross Product
u = np.array([-3, 8, 0])
v = np.array([6, 3, 0])

#print("Cross product:", np.cross(u, v))

'''
Vector Projection
What is it?
Projection of vector u onto vector v is the "shadow" or component of 
u in the direction of v.
It’s like asking: How much of u points along v?
(u.v/|v|^2)
'''

print("Projection of u onto v:",(np.dot(u,v)/ np.dot(v, v) )*v)

#A norm is a function that assigns a length or size to a vector. It measures the magnit
#L1 Norm (Manhattan Norm or Taxicab norm):
#Sum of absolute values of the vector components.
#Like the distance you'd travel in a grid (moving only in axis-aligned steps).
#L2 Norm (Euclidean norm):
#The “straight-line” distance from the origin to the point.
#Most commonly used norm.

x = np.array([3, -4, 12])

# L1 Norm
l1_norm = np.linalg.norm(x, ord=1)
print("L1 norm:", l1_norm)  # 3 + 4 + 12 = 19

# L2 Norm (Euclidean)
l2_norm = np.linalg.norm(x)  # default ord=2
print("L2 norm (Euclidean):", l2_norm)  # sqrt(9 + 16 + 144) = 13

# You can also compute manually for clarity:
l2_manual = np.sqrt(np.sum(x**2))
print("L2 norm manual:", l2_manual)
